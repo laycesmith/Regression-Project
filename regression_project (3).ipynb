{
 "cells": [
  {
   "cell_type": "markdown",
   "metadata": {
    "deletable": false,
    "editable": false
   },
   "source": [
    "# CSBP 1300\n",
    "\n",
    "# Regression Project"
   ]
  },
  {
   "cell_type": "markdown",
   "metadata": {},
   "source": [
    "## Name:"
   ]
  },
  {
   "cell_type": "markdown",
   "metadata": {},
   "source": [
    "<span style=\"color:red\">Layce Smith</span>"
   ]
  },
  {
   "cell_type": "markdown",
   "metadata": {
    "deletable": false,
    "editable": false
   },
   "source": [
    "---\n",
    "## Instructions\n",
    "\n",
    "- Make sure the `pizza_prices.csv`, `crickets_train.csv`, and `crickets_test.csv` files are located in the same directory as this notebook\n",
    "- Complete each of the code cells marked with: <span style=\"color:green\"># ENTER YOUR CODE HERE</span>\n",
    "- Complete the notebook in order from top to bottom as most of the sections require code from previous sections\n",
    "- Since many of the sections require code from the previous sections, every time you reopen this notebook, I highly suggest you do the following:\n",
    "    - Select the code cell you are currently working on or want to work on. The selected code cell should display a colored bounding box around it.\n",
    "    - In the menu bar at the top of the page, select `Kernel -> Restart Kernel and Run up to Selected Cell...` and then select the `Restart` button to confirm\n",
    "        - This restarts the kernel to ensure your code is starting from a blank slate\n",
    "        - This will attempt to run all of the cells in the notebook from the top of the page down to the cell directly above the current cell you have selected\n",
    "        - All of the variables, functions, etc. that you created in the previous cells will be loaded into memory for your use in the current kernel session\n",
    "- The sanity check cells are there to give you a general idea if your code is working as expected"
   ]
  },
  {
   "cell_type": "markdown",
   "metadata": {
    "deletable": false,
    "editable": false
   },
   "source": [
    "---\n",
    "# Predicting Pizza Prices\n",
    "\n",
    "Linear regression is probably one of the most widely used algorithms in data science, and many other sciences. One of the best things about linear regression is that it allows us to learn from things that we know or observations and measurements of things we know to make predictions about new things. These predictions might be about the likelihood of a person buying a product online or the chance that someone will default on their loan payments. To start we are going to use an even simpler example predicting the price of pizza based on its diameter.\n",
    "\n",
    "We have made a study of the pizza places in the neighborhood and here is a table of observations of pizza diameters and their actual price.\n",
    "\n",
    "|Diameter|Price|\n",
    "|-|-|\n",
    "|6|7|\n",
    "|8|9|\n",
    "|10|13|\n",
    "|14|17.5|\n",
    "|18|18|"
   ]
  },
  {
   "cell_type": "markdown",
   "metadata": {
    "deletable": false,
    "editable": false
   },
   "source": [
    "---\n",
    "### Read Pizza Data\n",
    "Read in the comma-separated values file called `pizza_prices.csv`. Save the diameter values to a list called `diameters` and the prices to a list called `prices`. Both lists should contain floating point values and not strings. You'll have to take into account that there is a header row in the file. You are allowed to use Python's built-in string methods such as `split`."
   ]
  },
  {
   "cell_type": "code",
   "execution_count": 159,
   "metadata": {},
   "outputs": [
    {
     "name": "stdout",
     "output_type": "stream",
     "text": [
      "['6', '7.00']\n",
      "['8', '9.00']\n",
      "['10', '13.00']\n",
      "['14', '17.50']\n",
      "['18', '18.00']\n",
      "[6.0, 8.0, 10.0, 14.0, 18.0]\n",
      "[7.0, 9.0, 13.0, 17.5, 18.0]\n"
     ]
    }
   ],
   "source": [
    "afile = open(\"pizza_prices.csv\", \"r\")\n",
    "lines = afile.readlines()\n",
    "header = lines[0]\n",
    "field_names = header.strip().split(',')\n",
    "diameters = []\n",
    "prices = []\n",
    "for row in lines[1:]:\n",
    "    vals = row.strip().split(\",\")\n",
    "    print(vals)\n",
    "    diameters.append(float(vals[0]))\n",
    "    prices.append(float(vals[1]))\n",
    "print(diameters)\n",
    "print(prices)\n",
    "\n"
   ]
  },
  {
   "cell_type": "code",
   "execution_count": 16,
   "metadata": {
    "deletable": false,
    "editable": false,
    "scrolled": true
   },
   "outputs": [
    {
     "name": "stdout",
     "output_type": "stream",
     "text": [
      "[6.0, 8.0, 10.0, 14.0, 18.0]\n",
      "[7.0, 9.0, 13.0, 17.5, 18.0]\n"
     ]
    }
   ],
   "source": [
    "# Run this cell to print the data\n",
    "print(diameters)\n",
    "print(prices)"
   ]
  },
  {
   "cell_type": "code",
   "execution_count": 17,
   "metadata": {
    "deletable": false,
    "editable": false
   },
   "outputs": [
    {
     "name": "stdout",
     "output_type": "stream",
     "text": [
      "Pass\n"
     ]
    }
   ],
   "source": [
    "# Run this cell to perform a sanity check\n",
    "assert diameters == [6.0, 8.0, 10.0, 14.0, 18.0], 'Incorrect result'\n",
    "assert prices == [7.0, 9.0, 13.0, 17.5, 18.0], 'Incorrect result'\n",
    "print('Pass')"
   ]
  },
  {
   "cell_type": "markdown",
   "metadata": {
    "deletable": false,
    "editable": false
   },
   "source": [
    "---\n",
    "### Plotting\n",
    "We are going to make a scatter plot of the pizza data. To do this, we will be using a popular Python visualization library called Matplotlib. First we need to import the `Matplotlib.pyplot` library. *Note that this import statement only needs to be excuted once per notebook per session. If you close your notebook and open it again at a later time, remember to re-execute the import cell below in order for the rest of your plots in this notebook to work correctly.*"
   ]
  },
  {
   "cell_type": "code",
   "execution_count": 4,
   "metadata": {
    "deletable": false,
    "editable": false
   },
   "outputs": [],
   "source": [
    "import matplotlib.pyplot as plt"
   ]
  },
  {
   "cell_type": "markdown",
   "metadata": {
    "deletable": false,
    "editable": false
   },
   "source": [
    "Below is a simple example of how we can use Matplotlib to plot some data. First, I defined two lists that will hold the x and y values. Then I passed these lists into the `plot` method of the `matplotlib.pyplot` library. I specified that I wanted circle markers (i.e. a scatter plot) using the format string `'o'`. Then I set a plot title and x and y axis labels.\n",
    "\n",
    "If you need a refresher on how the cartesian coordinate system works: https://www.mathsisfun.com/data/cartesian-coordinates.html"
   ]
  },
  {
   "cell_type": "code",
   "execution_count": 780,
   "metadata": {
    "scrolled": true
   },
   "outputs": [
    {
     "data": {
      "image/png": "[encoded data removed]",
      "text/plain": [
       "<Figure size 640x480 with 1 Axes>"
      ]
     },
     "metadata": {},
     "output_type": "display_data"
    }
   ],
   "source": [
    "# Run this cell to see the example plot\n",
    "x_vals = [1,2,3,4]\n",
    "y_vals = [1,4,9,16]\n",
    "plt.plot(x_vals, y_vals, 'o')\n",
    "plt.title('X vs Y')\n",
    "plt.xlabel('X Values')\n",
    "plt.ylabel('Y Values');"
   ]
  },
  {
   "cell_type": "markdown",
   "metadata": {
    "deletable": false,
    "editable": false
   },
   "source": [
    "Some Matplotlib links for your reference:\n",
    "- `plot` method information: https://matplotlib.org/api/_as_gen/matplotlib.pyplot.plot.html#matplotlib.pyplot.plot\n",
    "- Some examples: https://matplotlib.org/tutorials/introductory/pyplot.html\n",
    "- More library functions: https://matplotlib.org/api/_as_gen/matplotlib.pyplot.html#module-matplotlib.pyplot"
   ]
  },
  {
   "cell_type": "markdown",
   "metadata": {
    "deletable": false,
    "editable": false
   },
   "source": [
    "---\n",
    "### Plotting Pizza Data\n",
    "Now it's your turn! Use the Matplotlib library to plot the pizza data you imported earlier. The x-axis should be the diameter values and the y-axis should be the prices. You can just pass the `diameters` and `prices` Python lists directly into your `plot` method. Make sure to label the x and y axes and give the plot a title. Feel free to play around with the other options you found for the `plot` method. For example, I used a `grid` below and a `legend`.\n",
    "\n",
    "The resulting plot should look similar to this:"
   ]
  },
  {
   "cell_type": "markdown",
   "metadata": {
    "deletable": false,
    "editable": false
   },
   "source": [
    "<img src=\"data:image/png;base64,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\" />"
   ]
  },
  {
   "cell_type": "code",
   "execution_count": 19,
   "metadata": {},
   "outputs": [
    {
     "data": {
      "image/png": "[encoded data removed]",
      "text/plain": [
       "<Figure size 640x480 with 1 Axes>"
      ]
     },
     "metadata": {},
     "output_type": "display_data"
    }
   ],
   "source": [
    "import matplotlib.pyplot as plt\n",
    "x_vals = diameters\n",
    "y_vals = prices\n",
    "plt.plot(x_vals, y_vals, 'o')\n",
    "plt.title('Diameter v Price')\n",
    "plt.xlabel(\"Diameter\")\n",
    "plt.ylabel(\"Price\");\n"
   ]
  },
  {
   "cell_type": "markdown",
   "metadata": {
    "deletable": false,
    "editable": false
   },
   "source": [
    "What you can see pretty easily from this graph is that as the diameter of the pizza goes up, so does the price. If you were to draw a straight line through the points that came as close as possible to all of them, it would look something like this:"
   ]
  },
  {
   "cell_type": "markdown",
   "metadata": {
    "deletable": false,
    "editable": false
   },
   "source": [
    "<img src=\"data:image/png;base64,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\" />"
   ]
  },
  {
   "cell_type": "markdown",
   "metadata": {
    "deletable": false,
    "editable": false
   },
   "source": [
    "The orange line, called the trend-line or the regression line, is our best guess at a line that describes the data. This is important because we can come up with an equation for the line that will allow us to predict the y value (price) for any given x value (diameter). Linear regression is all about finding the best equation for the line.\n",
    "\n",
    "How do we do that? There are actually several different ways we can come up with the equation for the line. We will look at two different solutions: One is a closed form equation that will work for any problem like this in just two dimensions. The second is a solution that will allow us to generalize the idea of a best fit line to many dimensions!\n",
    "\n",
    "Recall the equation for a line that you learned in algebra:\n",
    "$$y = mx+b$$\n",
    "Where $m$ is slope and $b$ is the y-intercept. Here's a refresher if you need it: https://www.mathsisfun.com/equation_of_line.html\n",
    "\n",
    "What we need to do is to determine values for $m$ and $b$. One way we can do that is to simply guess! And keep refining our guesses until we get to a point where we are not really getting any better. You may think this sounds kind of stupid, but it is actually a pretty fundamental part of many machine learning algorithms. You may also be wondering how we decide what does it mean to “get better”? In the case of our pizza problem, we have some data to work with. So for a given guess of m and b, we can compare the calculated (predicted) y against the known value of y and measure our error.\n",
    "\n",
    "For example: Suppose we guess that $m = 0.7$ and $b = 5$. For a diameter of $10$, we get: $y = mx+b = 0.7 \\cdot 10 + 5 = 12$. Checking against our table, the value should be $13$ so our error is our known value minus our predicted value: $error = known-predicted= 13-12 = 1$. If we try the same thing for a diameter of $8$, we get $y = 0.7 \\cdot 8 + 5 = 10.6$. The error here is: $error = 9 - 10.6 = -1.6$."
   ]
  },
  {
   "cell_type": "markdown",
   "metadata": {
    "deletable": false,
    "editable": false
   },
   "source": [
    "---\n",
    "### Compute Y\n",
    "Define a function called `compute_y(x, m, b)`. The function must accept as parameters an x value, the slope m, and the y-intercept b. Using the input parameters, the function must compute the predicted y value using $y=mx+b$ and return the result."
   ]
  },
  {
   "cell_type": "code",
   "execution_count": 20,
   "metadata": {},
   "outputs": [],
   "source": [
    "# ENTER YOUR CODE HERE\n",
    "def compute_y(x, m, b):\n",
    "    y = (m * x) + b\n",
    "    return y"
   ]
  },
  {
   "cell_type": "code",
   "execution_count": 21,
   "metadata": {
    "deletable": false,
    "editable": false
   },
   "outputs": [
    {
     "data": {
      "text/plain": [
       "12.0"
      ]
     },
     "execution_count": 21,
     "metadata": {},
     "output_type": "execute_result"
    }
   ],
   "source": [
    "# Run this cell to print the output from your function\n",
    "compute_y(10, 0.7, 5)"
   ]
  },
  {
   "cell_type": "code",
   "execution_count": 22,
   "metadata": {
    "deletable": false,
    "editable": false
   },
   "outputs": [
    {
     "name": "stdout",
     "output_type": "stream",
     "text": [
      "Pass\n"
     ]
    }
   ],
   "source": [
    "# Run this cell to perform a sanity check\n",
    "assert round(compute_y(10, 0.7, 5), 1) == 12.0, 'Incorrect result'\n",
    "print('Pass')"
   ]
  },
  {
   "cell_type": "markdown",
   "metadata": {
    "deletable": false,
    "editable": false
   },
   "source": [
    "---\n",
    "### Compute All Y\n",
    "Define a function called `compute_all_y(x_list, m, b)`. The function must accept as parameters a list of x values, the slope m, and the y-intercept b. Using the input parameters, the function must compute the predicted y values for each of the x values and return a list of the predicted y values. Your function must use and call the `compute_y` function from within its function body."
   ]
  },
  {
   "cell_type": "code",
   "execution_count": 876,
   "metadata": {},
   "outputs": [],
   "source": [
    "# ENTER YOUR CODE HERE\n",
    "def compute_all_y(x_list, m, b):\n",
    "    y_list = []\n",
    "    for x in x_list:\n",
    "        y = compute_y(x, m, b)\n",
    "        y_list.append(float(y))\n",
    "    return y_list"
   ]
  },
  {
   "cell_type": "code",
   "execution_count": 877,
   "metadata": {
    "deletable": false,
    "editable": false
   },
   "outputs": [
    {
     "data": {
      "text/plain": [
       "[9.2, 10.6, 12.0, 14.799999999999999, 17.6]"
      ]
     },
     "execution_count": 877,
     "metadata": {},
     "output_type": "execute_result"
    }
   ],
   "source": [
    "# Run this cell to print the output from your function\n",
    "compute_all_y(diameters, 0.7, 5)"
   ]
  },
  {
   "cell_type": "code",
   "execution_count": 878,
   "metadata": {
    "deletable": false,
    "editable": false
   },
   "outputs": [
    {
     "name": "stdout",
     "output_type": "stream",
     "text": [
      "Pass\n"
     ]
    }
   ],
   "source": [
    "# Run this cell to perform a sanity check\n",
    "assert [round(y, 1) for y in compute_all_y([6,8,10,14,18], 0.7, 5)] == [9.2,10.6,12.0,14.8,17.6], 'Incorrect result'\n",
    "print('Pass')"
   ]
  },
  {
   "cell_type": "markdown",
   "metadata": {
    "deletable": false,
    "editable": false,
    "tags": []
   },
   "source": [
    "---\n",
    "### Print Table w/Errors\n",
    "Calculate the predicted prices for all of the diameters in the original data using the function `compute_all_y`, a slope of `0.7`, and a y-intercept of `5`. Print out your results in a table similar to the one shown below. The table should include a column for the diameter, actual price, predicted price, and error (actual minus predicted). You should try to use Python's string formatting (i.e. `format` method) to assist you with this table. If done correctly, you should be able to do this using a few lines of code and a for loop.\n",
    "\n",
    "```\n",
    "Diameter  Actual Price  Predicted Price  Error\n",
    "     6.0          7.00             9.20  -2.20\n",
    "     8.0          9.00            10.60  -1.60\n",
    "    10.0         13.00            12.00   1.00\n",
    "    14.0         17.50            14.80   2.70\n",
    "    18.0         18.00            17.60   0.40\n",
    "```\n",
    "\n",
    "Here are some examples of how you can use `format` with numbers for alignment, padding, and setting decimal places: https://mkaz.blog/code/python-string-format-cookbook/"
   ]
  },
  {
   "cell_type": "code",
   "execution_count": 879,
   "metadata": {},
   "outputs": [
    {
     "name": "stdout",
     "output_type": "stream",
     "text": [
      "Diameter  Actual Price   Predicted Price   Error           \n",
      "     6.0          7.00              9.20   -2.20\n",
      "     8.0          9.00             10.60   -1.60\n",
      "    10.0         13.00             12.00    1.00\n",
      "    14.0         17.50             14.80    2.70\n",
      "    18.0         18.00             17.60    0.40\n"
     ]
    }
   ],
   "source": [
    "# ENTER YOUR CODE HERE\n",
    "a = compute_all_y(diameters, 0.7, 5) # finding the predicted prices\n",
    "error = []\n",
    "for each in a:\n",
    "    for p in prices:\n",
    "        if prices.index(p) == a.index(each):\n",
    "            er = (p - each)\n",
    "            error.append(er)\n",
    "            \n",
    "row_1 = \"{:10s}{:15s}{:18s}{:16s}\".format(\"Diameter\", \"Actual Price\", \"Predicted Price\", \"Error\")\n",
    "print(row_1)\n",
    "\n",
    "new_diameters = []\n",
    "new_prices = []\n",
    "new_a = []\n",
    "new_error = []\n",
    "\n",
    "d = {\"Diameter\": new_diameters, \"Actual Price\": new_prices, \"Predicted Price\": new_a, \"Error\": new_error}\n",
    "\n",
    "\n",
    "for diams in diameters:\n",
    "    diams = (\"{:.1f}\".format(diams))\n",
    "    new_diameters.append(diams)\n",
    "for pri in prices:\n",
    "    pri = (\"{:.2f}\".format(pri))\n",
    "    new_prices.append(pri)\n",
    "for ah in a:\n",
    "    ah = (\"{:.2f}\".format(ah))\n",
    "    new_a.append(ah)\n",
    "for er in error:\n",
    "    er = (\"{:.2f}\".format(er))\n",
    "    new_error.append(er)\n",
    "    \n",
    "\n",
    "for i in range(0, len(new_diameters)):\n",
    "    row = [] \n",
    "    for each in d.values():\n",
    "        row.append(each[i])   \n",
    "    row = \"{:>8s}{:>14s}{:>18s}{:>8s}\".format(row[0], row[1], row[2], row[3])\n",
    "    print(row)\n",
    "\n",
    "\n",
    "\n",
    "\n"
   ]
  },
  {
   "cell_type": "markdown",
   "metadata": {
    "deletable": false,
    "editable": false
   },
   "source": [
    "---\n",
    "### Plot Predicted Prices\n",
    "Now plot the original set of data along with the this new table of data using Matplotlib to visualize how close our predicted prices are to the actual prices using this guess for slope and y-intercept. Use your code from the first plot and add a line for the predicted prices. You can add this line by simply calling another `plot` immediately following your first one and passing in the `diameters` for the x values and new predicted prices for the y values. Use one color for the original actual prices and another color for the new predicted prices line. Experiment with some different guesses for the slope and intercept to see how it works and how it affects our predicted prices. The resulting plot should look similar to this:"
   ]
  },
  {
   "cell_type": "markdown",
   "metadata": {
    "deletable": false,
    "editable": false
   },
   "source": [
    "<img src=\"data:image/png;base64,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\" />"
   ]
  },
  {
   "cell_type": "markdown",
   "metadata": {
    "deletable": false,
    "editable": false
   },
   "source": [
    "Note: In order to plot a line and not the circle markers, don't specify the format string `'o'`. To change the line color, you can use the `color` parameter with the `plot` method. See the links given earlier in this notebook for more information."
   ]
  },
  {
   "cell_type": "code",
   "execution_count": 880,
   "metadata": {
    "scrolled": true
   },
   "outputs": [
    {
     "data": {
      "image/png": "[encoded data removed]",
      "text/plain": [
       "<Figure size 640x480 with 1 Axes>"
      ]
     },
     "metadata": {},
     "output_type": "display_data"
    }
   ],
   "source": [
    "# ENTER YOUR CODE HERE\n",
    "import matplotlib.pyplot as plt\n",
    "x_vals = diameters\n",
    "y_vals = prices\n",
    "plt.plot(x_vals, y_vals, 'o')\n",
    "plt.title('Diameter v Price')\n",
    "plt.xlabel(\"Diameter\")\n",
    "plt.ylabel(\"Price\");\n",
    "\n",
    "import matplotlib.pyplot as plt\n",
    "x_vals = diameters\n",
    "y_vals = a\n",
    "plt.plot(x_vals, y_vals)\n",
    "plt.title('Diameter v Price')\n",
    "plt.xlabel(\"Diameter\")\n",
    "plt.ylabel(\"Price\");"
   ]
  },
  {
   "cell_type": "markdown",
   "metadata": {
    "deletable": false,
    "editable": false
   },
   "source": [
    "---\n",
    "### Mean Squared Error\n",
    "Now we have our ‘predicted values’ and a bunch of error measurements. One common way we combine these error measurements together is to compute the Mean Squared Error (MSE). This is easy to compute because all we have to do is square each of our errors, add them up and then divide by the number of error terms we have. Why do we square them first? Well, did you notice that in our example one of the errors was positive and one was negative, but when we add together both positive and negative numbers they tend to cancel each other out making our final mean value smaller. So we square them to be sure they are all positive. We call this calculation of the MSE an objective function. In many machine learning algorithms our goal is to minimize the objective function. That is what we want to do here, we want to find the value for m and b that minimizes the error.\n",
    "\n",
    "$$ MSE = \\frac{1}{n} \\sum_{i=1}^{n}{(Y_{i,actual} - Y_{i,predicted})^2} $$\n",
    "\n",
    "If the sigma symbol above is unfamiliar to you: https://www.mathsisfun.com/algebra/sigma-notation.html\n",
    "\n",
    "For example, if the actual prices were [4, 6, 8] and the corresponding predicted prices were [3, 5, 7], then the mean squared error would be computed as:\n",
    "$$MSE = \\frac{1}{3}[(4-3)^2 + (6-5)^2 + (8-7)^2] = 1$$\n",
    "\n",
    "Define a function called `compute_mse(y_actual_list, y_predicted_list)`. This function must accept as parameters a list of the known/actual y values and a list of the predicted y values. This function should compute the Mean Squared Error and return the result."
   ]
  },
  {
   "cell_type": "code",
   "execution_count": 881,
   "metadata": {},
   "outputs": [],
   "source": [
    "# ENTER YOUR CODE HERE\n",
    "def compute_mse(y_actual_list, y_predicted_list):\n",
    "    for i in range(0, len(y_actual_list)):\n",
    "        sum = []\n",
    "        for y in y_actual_list:\n",
    "            for y_pred in y_predicted_list:\n",
    "                if y_actual_list.index(y) == y_predicted_list.index(y_pred):\n",
    "                    x = (y - y_pred) ** 2\n",
    "                    sum.append(x)\n",
    "    total = 0\n",
    "    for each in sum:\n",
    "        total = total + each\n",
    "        MSE = (1 / len(y_actual_list)) * total\n",
    "    \n",
    "    return MSE\n",
    "                    \n",
    "            \n",
    "    "
   ]
  },
  {
   "cell_type": "code",
   "execution_count": 882,
   "metadata": {
    "deletable": false,
    "editable": false
   },
   "outputs": [
    {
     "data": {
      "text/plain": [
       "3.17"
      ]
     },
     "execution_count": 882,
     "metadata": {},
     "output_type": "execute_result"
    }
   ],
   "source": [
    "# Run this cell to print the output from your function\n",
    "compute_mse(prices, compute_all_y(diameters, 0.7, 5))"
   ]
  },
  {
   "cell_type": "code",
   "execution_count": 883,
   "metadata": {
    "deletable": false,
    "editable": false
   },
   "outputs": [
    {
     "name": "stdout",
     "output_type": "stream",
     "text": [
      "Pass\n"
     ]
    }
   ],
   "source": [
    "# Run this cell to perform a sanity check\n",
    "assert round(compute_mse([7,9,13,17.5,18], [9.2,10.6,12.0,14.8,17.6]), 2) == 3.17, 'Incorrect result'\n",
    "print('Pass')"
   ]
  },
  {
   "cell_type": "markdown",
   "metadata": {
    "deletable": false,
    "editable": false
   },
   "source": [
    "---\n",
    "### Minimize MSE\n",
    "Next, we will write a function that will systematically try different values for m and b in order to minimize the Mean Squared Error.\n",
    "\n",
    ">What this function is doing in layman's terms is trying different values for the slope and y-intercept until we've found a line that best \"fits\" the data points (i.e. diameters and actual prices). We determine what the \"best fit\" is by the line that minimizes the error between the actual prices and the predicted prices the line would make. We could then use this \"fitted\" line to make price predictions about other future diameters we give it.\n",
    "\n",
    "Define a function called `minimize_mse(x_list, y_actual_list, m_start, b_start, m_step, b_step, iterations)`. This function must take as parameters:\n",
    "\n",
    "- `x_list` => a list of the x values\n",
    "- `y_actual_list` => a list of the known/actual y values\n",
    "- `m_start` => initial guess for m\n",
    "- `b_start` => initial guess for b\n",
    "- `m_step` => initial step size for m\n",
    "- `b_step` => initial step size for b\n",
    "- `iterations` => number of iterations\n",
    "\n",
    "This function must call/invoke the `compute_all_y` and `compute_mse` functions within the function to calculate the predicted y values and MSE. This function should return the m and b as a tuple that minimizes the MSE for the given x and y values.\n",
    "\n",
    "The suggested algorithm for this function is as follows:\n",
    "1. Using the list of x values and the initial guesses for m and b, compute the predicted y values (using `compute_all_y`)\n",
    "2. Using the list of actual y values and the list of predicted y values, compute the MSE (using `compute_mse`)\n",
    "3. Store this MSE as the lowest MSE so far (save it to a variable called `lowest_MSE`)\n",
    "4. Repeat the following steps for the number of times specified by the `iteration` parameter:\n",
    "    1. Create a variable `m_larger` that is assigned the value of `m` plus the step size `m_step`\n",
    "    2. Using this larger m, the x values, and `b`, recompute the predicted y values\n",
    "    3. Using these predicted y values and the actual y values, recompute the MSE\n",
    "    4. If the MSE is lower than the lowest MSE so far:\n",
    "        1. Set `m` equal to this larger m\n",
    "        2. Store this MSE as the lowest MSE so far\n",
    "    5. However, if the MSE is not lower than the lowest MSE so far:\n",
    "        1. Create a variable `m_smaller` that is assigned the value of `m` minus the step size `m_step`\n",
    "        2. Using this smaller m, the x values, and `b`, recompute the predicted y values\n",
    "        3. Using these predicted y values and the actual y values, recompute the MSE\n",
    "        4. If the MSE is lower than the lowest MSE so far:\n",
    "            1. Set `m` equal to this smaller m\n",
    "            2. Save this MSE as the lowest MSE so far\n",
    "    6. Create a variable `b_larger` that is assigned the value of `b` plus the step size `b_step`\n",
    "    7. Using this larger b, the x values, and `m` (that may have been updated above), recompute the predicted y values\n",
    "    8. Using these predicted y values and the actual y values, recompute the MSE\n",
    "    9. If the MSE is lower than the lowest MSE so far:\n",
    "        1. Set `b` equal to this larger b\n",
    "        2. Store this MSE as the lowest MSE so far\n",
    "    10. However, if the MSE is not lower than the lowest MSE so far:\n",
    "        1. Create a variable `b_smaller` that is assigned the value of `b` minus the step size `b_step`\n",
    "        2. Using this smaller b, the x values, and `m` (that may have been updated above), recompute the predicted y values\n",
    "        3. Using these predicted y values and the actual y values, recompute the MSE\n",
    "        4. If the MSE is lower than the lowest MSE so far:\n",
    "            1. Set `b` equal to this smaller b\n",
    "            2. Save this MSE as the lowest MSE so far\n",
    "    11. (At this point, `m` and `b` may or may not have been updated in this iteration depending on whether or not a step up or step down of each value resulted in a lower MSE)\n",
    "5. Return the final `m` and `b` values as a tuple\n",
    "\n",
    "*Hint: You can use the structure (and indentation levels) of the algorithm above for the outline of your code as it very closely mirrors the solution.*\n",
    "\n",
    "After repeating the above enough times we will be very close to the best possible values for m and b. We can now use these values to make predictions for other pizzas where we know the diameter but don’t know the price."
   ]
  },
  {
   "cell_type": "code",
   "execution_count": 884,
   "metadata": {},
   "outputs": [
    {
     "name": "stdout",
     "output_type": "stream",
     "text": [
      "(1.0100000000000007, 1.5900000000000012)\n"
     ]
    }
   ],
   "source": [
    "# ENTER YOUR CODE HERE\n",
    "def minimize_mse(x_list, y_actual_list, m_start, b_start, m_step, b_step, iterations):\n",
    "    y = compute_all_y(x_list, m_start, b_start)\n",
    "    lowest_MSE = compute_mse(y_actual_list, y)\n",
    "    m = 0\n",
    "    b = 0\n",
    "    for i in range(iterations):\n",
    "        m_larger = m + m_step\n",
    "        y = compute_all_y(x_list, m_larger, b)\n",
    "        if compute_mse(y_actual_list, y) < lowest_MSE:\n",
    "            m = m_larger\n",
    "            lowest_MSE = compute_mse(y_actual_list, y)\n",
    "        else:\n",
    "            m_smaller = m - m_step\n",
    "            y = compute_all_y(x_list, m_smaller, b)\n",
    "            if compute_mse(y_actual_list, y) < lowest_MSE:\n",
    "                m = m_smaller\n",
    "                lowest_MSE = compute_mse(y_actual_list, y) \n",
    "        \n",
    "        b_larger = b + b_step\n",
    "        y = compute_all_y(x_list, m, b_larger)\n",
    "        if compute_mse(y_actual_list, y) < lowest_MSE:\n",
    "            b = b_larger\n",
    "            lowest_MSE = compute_mse(y_actual_list, y)\n",
    "        else:\n",
    "            b_smaller = b - b_step\n",
    "            y = compute_all_y(x_list, m, b_smaller)\n",
    "            if compute_mse(y_actual_list, y) < lowest_MSE:\n",
    "                b = b_smaller\n",
    "            lowest_MSE = compute_mse(y_actual_list, y)  \n",
    "    return m, b\n",
    "\n",
    "print(minimize_mse(diameters, prices, 5, 5, 0.01, 0.01, 1000))    \n",
    "    "
   ]
  },
  {
   "cell_type": "markdown",
   "metadata": {
    "deletable": false,
    "editable": false
   },
   "source": [
    "For debugging, I suggest using print statements. For example, try printing the lowest MSE so far after each iteration and make sure the values are going down over time (until they level off at some point).\n",
    "\n",
    "For your reference, if using the default values below of m_start = 5, b_start = 5, m_step = 0.01, b_step = 0.01, and iterations = 1000, and assuming you followed the algorithm given above exactly, when running the cell below, you should be getting values close to m_min = 1.01 and b_min = 1.59. However, please note that your values may vary slightly depending on your implementation."
   ]
  },
  {
   "cell_type": "code",
   "execution_count": 597,
   "metadata": {},
   "outputs": [
    {
     "name": "stdout",
     "output_type": "stream",
     "text": [
      "m = 1.0100000000000007 , b = 1.5900000000000012\n"
     ]
    }
   ],
   "source": [
    "# Run this cell to print the output from your function\n",
    "m_start = 5\n",
    "b_start = 5\n",
    "m_step = 0.01\n",
    "b_step = 0.01\n",
    "iterations = 1000\n",
    "m_min, b_min = minimize_mse(diameters, prices, m_start, b_start, m_step, b_step, iterations)\n",
    "print('m =', m_min, ', b =', b_min)"
   ]
  },
  {
   "cell_type": "markdown",
   "metadata": {
    "deletable": false,
    "editable": false
   },
   "source": [
    "In order to verify that your code found estimates for the slope and intercept that produce a regression line that 'fits' the data well, plot the predicted prices again but this time using your results obtained from the `minimize_mse` function. In order to calculate the predicted prices, invoke the `compute_all_y` function and pass in the `diameters`, along with your results for the slope (`m_min`) and intercept (`b_min`) returned from the `minimize_mse` function.\n",
    "\n",
    "The resulting plot should show a line that goes through the points and look similar to this:"
   ]
  },
  {
   "cell_type": "markdown",
   "metadata": {
    "deletable": false,
    "editable": false
   },
   "source": [
    "<img src=\"data:image/png;base64,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\" />"
   ]
  },
  {
   "cell_type": "code",
   "execution_count": 598,
   "metadata": {},
   "outputs": [
    {
     "data": {
      "image/png": "[encoded data removed]",
      "text/plain": [
       "<Figure size 640x480 with 1 Axes>"
      ]
     },
     "metadata": {},
     "output_type": "display_data"
    }
   ],
   "source": [
    "# ENTER YOUR CODE HERE\n",
    "\n",
    "y = compute_all_y(diameters, m_min, b_min)\n",
    "\n",
    "import matplotlib.pyplot as plt\n",
    "x_vals = diameters\n",
    "y_vals = prices\n",
    "plt.plot(x_vals, y_vals, 'o')\n",
    "plt.title('Diameter v Price')\n",
    "plt.xlabel(\"Diameter\")\n",
    "plt.ylabel(\"Price\");\n",
    "\n",
    "import matplotlib.pyplot as plt\n",
    "x_vals = diameters\n",
    "y_vals = y\n",
    "plt.plot(x_vals, y_vals)\n",
    "plt.title('Diameter v Price')\n",
    "plt.xlabel(\"Diameter\")\n",
    "plt.ylabel(\"Price\");"
   ]
  },
  {
   "cell_type": "markdown",
   "metadata": {
    "deletable": false,
    "editable": false
   },
   "source": [
    "Congratulations! You have just written your first “machine learning” algorithm! One fun thing you can do is to save the MSE at the end of each iteration and then plot the final list of MSEs (or just print them out at each iteration). You should see the error go down pretty quickly and then level off or go down very gradually. Note that the error will never go to 0 because the data isn’t perfectly linear. Nothing in the real world is!\n",
    "\n",
    "At this point, your algorithm's ability to ‘learn’ is limited by how much you change the slope and intercept values each time through the loop. At the beginning it's good to change them by a lot but as you get closer to the best answer, it's better to tweak them by smaller and smaller amounts. Can you adjust your code above to do this? (not required)"
   ]
  },
  {
   "cell_type": "markdown",
   "metadata": {
    "deletable": false,
    "editable": false
   },
   "source": [
    "---\n",
    "## Closed Form Solution\n",
    "For two dimensional data there is even a closed form solution to this problem that one could derive using a bit of calculus. We will calculate the slope and intercept using this closed form solution and compare with our previous results using the algorithm above. The closed form solution for slope and intercept are: slope = covariance / variance and intercept = avg(y) - slope * avg(x).\n",
    "\n",
    "Fortunately, we already created functions in last week's statistics functions activity for calculating the mean and variance so we will reuse that code here. Copy and paste the code you created in the statistics functions activity for the functions `calc_sum`, `calc_mean`, `calc_square`, and `calc_variance` in the code cell below. If you didn't complete them last week, please refer back to the activity for details and create them here. Mainly we need the mean and variance calculations."
   ]
  },
  {
   "cell_type": "code",
   "execution_count": 599,
   "metadata": {},
   "outputs": [
    {
     "name": "stdout",
     "output_type": "stream",
     "text": [
      "2.0\n"
     ]
    }
   ],
   "source": [
    "# ENTER YOUR CODE HERE\n",
    "def calc_sum(numbers):\n",
    "    lst = []\n",
    "    for nums in numbers:\n",
    "        if len(str(nums)) >= 1:\n",
    "            lst.append(nums)\n",
    "    count = 0\n",
    "    for nums in lst:\n",
    "            count = count + nums\n",
    "    return count\n",
    "\n",
    "def calc_mean(numbers):\n",
    "    x = len(numbers)\n",
    "    mean = (1 / x) * calc_sum(numbers)\n",
    "    return mean\n",
    "\n",
    "y = calc_mean([1, 2, 3])\n",
    "print(y)\n",
    "\n",
    "def calc_square(number):\n",
    "    x = number ** 2\n",
    "    return x\n",
    "\n",
    "def calc_variance(numbers):\n",
    "    count = 0\n",
    "    for nums in numbers:\n",
    "        x = calc_square(nums - calc_mean(numbers))\n",
    "        count = count + x\n",
    "        y = len(numbers)\n",
    "    variance = (1 / y) * count\n",
    "    return variance"
   ]
  },
  {
   "cell_type": "code",
   "execution_count": 600,
   "metadata": {
    "deletable": false,
    "editable": false
   },
   "outputs": [
    {
     "name": "stdout",
     "output_type": "stream",
     "text": [
      "mean of x = 11.200000000000001\n",
      "variance of x = 18.560000000000002\n"
     ]
    }
   ],
   "source": [
    "# Run this cell to print the output from your functions\n",
    "print('mean of x =', calc_mean(diameters))\n",
    "print('variance of x =', calc_variance(diameters))"
   ]
  },
  {
   "cell_type": "code",
   "execution_count": 601,
   "metadata": {
    "deletable": false,
    "editable": false
   },
   "outputs": [
    {
     "name": "stdout",
     "output_type": "stream",
     "text": [
      "Pass\n"
     ]
    }
   ],
   "source": [
    "# Run this cell to perform a sanity check\n",
    "assert round(calc_mean([6,8,10,14,18]), 1) == 11.2, 'Incorrect result'\n",
    "assert round(calc_variance([6,8,10,14,18]), 2) == 18.56, 'Incorrect result'\n",
    "print('Pass')"
   ]
  },
  {
   "cell_type": "markdown",
   "metadata": {
    "deletable": false,
    "editable": false
   },
   "source": [
    "---\n",
    "### Covariance\n",
    "Next, we will define a function called `calc_covariance(x_list, y_actual_list)`. This function will take in a list of x values and a list of known/actual y values as parameters and return the covariance calculaton shown below. For each value in x, this function subtracts the mean of the x values from that x value, subtracts the mean of the y values from the corresponding y value, multiplies those two results together, sums these results for all of the x values, and divides by the total number of x values. You can use your `calc_mean` function in this function.\n",
    "\n",
    "$$ covariance = \\frac{1}{n} \\sum_{i=1}^{n}{(x_i-x_{mean})(y_i-y_{mean})} $$\n",
    "\n",
    "For example, say the x values were [4, 6, 8] and the corresponding list of y values were [3, 5, 7], then the covariance would be calculated as follows:\n",
    "\n",
    "$$ x_{mean} = \\frac{4+6+8}{3}=6 $$\n",
    "$$ y_{mean} = \\frac{3+5+7}{3}=5 $$\n",
    "$$ covariance = \\frac{1}{3}[(4-6)(3-5) + (6-6)(5-5) + (8-6)(7-5)] = \\frac{8}{3}$$"
   ]
  },
  {
   "cell_type": "code",
   "execution_count": 688,
   "metadata": {},
   "outputs": [],
   "source": [
    "# ENTER YOUR CODE HERE\n",
    "def calc_covariance(x_list, y_actual_list):\n",
    "    \n",
    "    x_mean = calc_mean(x_list)\n",
    "    y_mean = calc_mean(y_actual_list)\n",
    "    \n",
    "    for i in range(0, len(x_list)):\n",
    "        numbers = []\n",
    "        for x_vals in x_list:\n",
    "            x = x_vals - x_mean\n",
    "            for y_vals in y_actual_list:\n",
    "                y = y_vals - y_mean\n",
    "                if x_list.index(x_vals) == y_actual_list.index(y_vals):\n",
    "                    nums = x * y\n",
    "                    numbers.append(nums)\n",
    "        total = 0\n",
    "        for num in numbers:\n",
    "            total = total + num\n",
    "    \n",
    "    covariance = (1 / len(x_list)) * total\n",
    "    \n",
    "    return covariance\n"
   ]
  },
  {
   "cell_type": "code",
   "execution_count": 689,
   "metadata": {
    "deletable": false,
    "editable": false
   },
   "outputs": [
    {
     "data": {
      "text/plain": [
       "18.12"
      ]
     },
     "execution_count": 689,
     "metadata": {},
     "output_type": "execute_result"
    }
   ],
   "source": [
    "# Run this cell to print the output from your function\n",
    "calc_covariance(diameters, prices)"
   ]
  },
  {
   "cell_type": "code",
   "execution_count": 690,
   "metadata": {
    "deletable": false,
    "editable": false
   },
   "outputs": [
    {
     "name": "stdout",
     "output_type": "stream",
     "text": [
      "Pass\n"
     ]
    }
   ],
   "source": [
    "# Run this cell to perform a sanity check\n",
    "assert round(calc_covariance([6,8,10,14,18], [7,9,13,17.5,18]), 2) == 18.12, 'Incorrect result'\n",
    "print('Pass')"
   ]
  },
  {
   "cell_type": "markdown",
   "metadata": {
    "deletable": false,
    "editable": false
   },
   "source": [
    "### Compare\n",
    "Finally, use your `calc_covariance`, `calc_variance`, and `calc_mean` functions to compute the closed form solution for the slope and y intercept values. Set these equal to variables named `m_closed` and `b_closed`.\n",
    "\n",
    "$$ m_{closed} = \\frac{covariance}{variance_x} $$\n",
    "\n",
    "$$ b_{closed} = mean_y - m_{closed} \\cdot mean_x $$"
   ]
  },
  {
   "cell_type": "code",
   "execution_count": 693,
   "metadata": {},
   "outputs": [],
   "source": [
    "# ENTER YOUR CODE HERE\n",
    "m_closed = calc_covariance(diameters, prices) / calc_variance(diameters)\n",
    "b_closed = calc_mean(prices) - (m_closed * calc_mean(diameters))"
   ]
  },
  {
   "cell_type": "code",
   "execution_count": 694,
   "metadata": {
    "deletable": false,
    "editable": false,
    "scrolled": true
   },
   "outputs": [
    {
     "name": "stdout",
     "output_type": "stream",
     "text": [
      "m_closed = 0.9762931034482758 , b_closed = 1.9655172413793096\n"
     ]
    }
   ],
   "source": [
    "# Run this cell to print the results\n",
    "print('m_closed =', m_closed, ', b_closed =', b_closed)"
   ]
  },
  {
   "cell_type": "code",
   "execution_count": 695,
   "metadata": {
    "deletable": false,
    "editable": false
   },
   "outputs": [
    {
     "name": "stdout",
     "output_type": "stream",
     "text": [
      "Pass\n"
     ]
    }
   ],
   "source": [
    "# Run this cell to perform a sanity check\n",
    "from scipy import stats\n",
    "m_closed_test, b_closed_test, _, _, _ = stats.linregress(diameters,prices)\n",
    "assert round(m_closed, 2) == round(m_closed_test, 2), 'Incorrect result'\n",
    "assert round(b_closed, 2) == round(b_closed_test, 2), 'Incorrect result'\n",
    "print('Pass')"
   ]
  },
  {
   "cell_type": "markdown",
   "metadata": {
    "deletable": false,
    "editable": false
   },
   "source": [
    "If all goes well, you should see that your slope and intercept values obtained from our minimize MSE function are somewhat close to the closed form solution. Don't worry if they are not as close as you were expecting. It's always possible that you found a line that might differ a bit from the optimal line.\n",
    "\n",
    "Note: You just have to print out the values above and compare them yourself. You are not required to compare them quantitatively or write anything about it."
   ]
  },
  {
   "cell_type": "markdown",
   "metadata": {
    "deletable": false,
    "editable": false
   },
   "source": [
    "---\n",
    "# Predicting Temps from Cricket Chirps\n",
    "\n",
    "Now that you have the regression algorithm working on this toy data set, we will try it out on another dataset. It is said that there is a correlation between the number of times a cricket chirps and the temperature.\n",
    "\n",
    "`\n",
    "Data file: crickets_train.csv\n",
    "chirps/min,temp\n",
    "19.79999924,93.30000305\n",
    "18.39999962,84.30000305\n",
    "17.10000038,80.59999847\n",
    "15.5,75.19999695\n",
    "14.69999981,69.69999695\n",
    "17.10000038,82\n",
    "15.39999962,69.40000153\n",
    "16.20000076,83.30000305\n",
    "17.20000076,82.59999847\n",
    "16,80.59999847\n",
    "17,83.5\n",
    "14.39999962,76.30000305\n",
    "`\n",
    "\n",
    "`\n",
    "Data file: crickets_test.csv\n",
    "chirps/min,temp\n",
    "20,88.59999847\n",
    "16,71.59999847\n",
    "15,79.59999847\n",
    "`\n",
    "\n",
    "We will find the best slope and intercept using the `crickets_train.csv` file. Then, using the slope and intercept, we will make predictions using the number of chirps in the `crickets_test.csv` file. You can see how well you did with this data because you also have a known temperature to compare it to (temps in `crickets_test.csv`)."
   ]
  },
  {
   "cell_type": "markdown",
   "metadata": {
    "deletable": false,
    "editable": false
   },
   "source": [
    "---\n",
    "### Read Cricket Training and Testing Data\n",
    "Read in the comma-separated values file called `crickets_train.csv`. Save the chirp values to a list called `chirps_train` and the temp values to a list called `temps_train`. Both lists should be floating point values and not strings. You'll have to take into account that there is a header row in the file. You are allowed to use Python's built-in string methods such as `split`."
   ]
  },
  {
   "cell_type": "code",
   "execution_count": 807,
   "metadata": {},
   "outputs": [],
   "source": [
    "# ENTER YOUR CODE HERE\n",
    "file = open(\"crickets_train.csv\", \"r\")\n",
    "lines = file.readlines()\n",
    "header = lines[0]\n",
    "field_names = header.strip().split(\",\")\n",
    "\n",
    "chirps_train = []\n",
    "temps_train = []\n",
    "\n",
    "for rows in lines[1:]:\n",
    "    values = rows.strip().split(\",\")\n",
    "    for each in values:\n",
    "        if each == values[0]:\n",
    "            each = float(each)\n",
    "            each = round(each, 2)\n",
    "            chirps_train.append(each)\n",
    "        else:\n",
    "            each = float(each)\n",
    "            each = round(each, 2)\n",
    "            temps_train.append(each)\n",
    "            \n",
    "    "
   ]
  },
  {
   "cell_type": "code",
   "execution_count": 808,
   "metadata": {
    "deletable": false,
    "editable": false,
    "scrolled": true
   },
   "outputs": [
    {
     "name": "stdout",
     "output_type": "stream",
     "text": [
      "[19.8, 18.4, 17.1, 15.5, 14.7, 17.1, 15.4, 16.2, 17.2, 16.0, 17.0, 14.4]\n",
      "[93.3, 84.3, 80.6, 75.2, 69.7, 82.0, 69.4, 83.3, 82.6, 80.6, 83.5, 76.3]\n"
     ]
    }
   ],
   "source": [
    "# Run this cell to print the data\n",
    "print(chirps_train)\n",
    "print(temps_train)"
   ]
  },
  {
   "cell_type": "code",
   "execution_count": 809,
   "metadata": {
    "deletable": false,
    "editable": false
   },
   "outputs": [
    {
     "name": "stdout",
     "output_type": "stream",
     "text": [
      "Pass\n"
     ]
    }
   ],
   "source": [
    "# Run this cell to perform a sanity check\n",
    "assert [round(x, 1) for x in chirps_train] == [19.8,18.4,17.1,15.5,14.7,17.1,15.4,16.2,17.2,16.0,17.0,14.4], 'Incorrect result'\n",
    "assert [round(y, 1) for y in temps_train] == [93.3,84.3,80.6,75.2,69.7,82.0,69.4,83.3,82.6,80.6,83.5,76.3], 'Incorrect result'\n",
    "print('Pass')"
   ]
  },
  {
   "cell_type": "markdown",
   "metadata": {
    "deletable": false,
    "editable": false
   },
   "source": [
    "Read in the comma-separated values file called `crickets_test.csv`. Save the chirp values to a list called `chirps_test` and the temp values to a list called `temps_test`. Both lists should be floating point values and not strings. You'll have to take into account that there is a header row in the file. You are allowed to use Python's built-in string methods such as `split`."
   ]
  },
  {
   "cell_type": "code",
   "execution_count": 812,
   "metadata": {},
   "outputs": [],
   "source": [
    "# ENTER YOUR CODE HERE\n",
    "next_file = open(\"crickets_test.csv\", \"r\")\n",
    "afile = next_file.readlines()\n",
    "header = afile[0]\n",
    "field_names = header.strip().split(\",\")\n",
    "\n",
    "chirps_test = []\n",
    "temps_test = []\n",
    "\n",
    "for row in afile[1:]:\n",
    "    values = row.strip().split(\",\")\n",
    "    for each in values:\n",
    "        if each == values[0]:\n",
    "            each = float(each)\n",
    "            each = round(each, 2)\n",
    "            chirps_test.append(each)\n",
    "        else:\n",
    "            each = float(each)\n",
    "            each = round(each, 2)\n",
    "            temps_test.append(each)\n",
    "        "
   ]
  },
  {
   "cell_type": "code",
   "execution_count": 813,
   "metadata": {
    "deletable": false,
    "editable": false
   },
   "outputs": [
    {
     "name": "stdout",
     "output_type": "stream",
     "text": [
      "[20.0, 16.0, 15.0]\n",
      "[88.6, 71.6, 79.6]\n"
     ]
    }
   ],
   "source": [
    "# Run this cell to print the data\n",
    "print(chirps_test)\n",
    "print(temps_test)"
   ]
  },
  {
   "cell_type": "code",
   "execution_count": 814,
   "metadata": {
    "deletable": false,
    "editable": false
   },
   "outputs": [
    {
     "name": "stdout",
     "output_type": "stream",
     "text": [
      "Pass\n"
     ]
    }
   ],
   "source": [
    "# Run this cell to perform a sanity check\n",
    "assert [round(x, 1) for x in chirps_test] == [20.0,16.0,15.0], 'Incorrect result'\n",
    "assert [round(y, 1) for y in temps_test] == [88.6,71.6,79.6], 'Incorrect result'\n",
    "print('Pass')"
   ]
  },
  {
   "cell_type": "markdown",
   "metadata": {
    "deletable": false,
    "editable": false
   },
   "source": [
    "---\n",
    "### Train Data / Make Predictions\n",
    "Using your `minimize_mse` function, calculate the best slope and intercept values that minimizes the MSE. Set these slope and intercept values to variables named `m_crickets` and `b_crickets`."
   ]
  },
  {
   "cell_type": "code",
   "execution_count": 890,
   "metadata": {},
   "outputs": [
    {
     "name": "stdout",
     "output_type": "stream",
     "text": [
      "(4.4499999999999496, 5.7199999999999225)\n"
     ]
    }
   ],
   "source": [
    "# ENTER YOUR CODE HERE\n",
    "def minimize_mse(x_list, y_actual_list, m_start, b_start, m_step, b_step, iterations):\n",
    "    y = compute_all_y(x_list, m_start, b_start)\n",
    "    lowest_MSE = compute_mse(y_actual_list, y)\n",
    "    m = 0\n",
    "    b = 0\n",
    "    for i in range(iterations):\n",
    "        m_larger = m + m_step\n",
    "        y = compute_all_y(x_list, m_larger, b)\n",
    "        if compute_mse(y_actual_list, y) < lowest_MSE:\n",
    "            m = m_larger\n",
    "            lowest_MSE = compute_mse(y_actual_list, y)\n",
    "        else:\n",
    "            m_smaller = m - m_step\n",
    "            y = compute_all_y(x_list, m_smaller, b)\n",
    "            if compute_mse(y_actual_list, y) < lowest_MSE:\n",
    "                m = m_smaller\n",
    "                lowest_MSE = compute_mse(y_actual_list, y) \n",
    "        \n",
    "        b_larger = b + b_step\n",
    "        y = compute_all_y(x_list, m, b_larger)\n",
    "        if compute_mse(y_actual_list, y) < lowest_MSE:\n",
    "            b = b_larger\n",
    "            lowest_MSE = compute_mse(y_actual_list, y)\n",
    "        else:\n",
    "            b_smaller = b - b_step\n",
    "            y = compute_all_y(x_list, m, b_smaller)\n",
    "            if compute_mse(y_actual_list, y) < lowest_MSE:\n",
    "                b = b_smaller\n",
    "            lowest_MSE = compute_mse(y_actual_list, y)  \n",
    "    return m, b\n",
    "\n",
    "print(minimize_mse(chirps_train, temps_train, 5, 5, 0.01, 0.01, 1000))    \n",
    "    "
   ]
  },
  {
   "cell_type": "markdown",
   "metadata": {
    "deletable": false,
    "editable": false
   },
   "source": [
    "Now plot the training data along with the regression line showing the predicted temps using the slope and intercept from your model. Confirm that your line 'fits' the data well. The resulting plot should look similar to this:"
   ]
  },
  {
   "cell_type": "markdown",
   "metadata": {
    "deletable": false,
    "editable": false
   },
   "source": [
    "<img src=\"data:image/png;base64,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\" />"
   ]
  },
  {
   "cell_type": "code",
   "execution_count": 891,
   "metadata": {
    "scrolled": true
   },
   "outputs": [
    {
     "data": {
      "image/png": "[encoded data removed]",
      "text/plain": [
       "<Figure size 640x480 with 1 Axes>"
      ]
     },
     "metadata": {},
     "output_type": "display_data"
    }
   ],
   "source": [
    "# ENTER YOUR CODE HERE\n",
    "a = compute_all_y(chirps_train, m_crickets, b_crickets)\n",
    "\n",
    "import matplotlib.pyplot as plt\n",
    "x_vals = chirps_train\n",
    "y_vals = temps_train\n",
    "plt.plot(x_vals, y_vals, 'o')\n",
    "plt.title('Temps by Chirps/Min')\n",
    "plt.xlabel(\"Chirps/Min\")\n",
    "plt.ylabel(\"Temp\");\n",
    "\n",
    "import matplotlib.pyplot as plt\n",
    "x_vals = chirps_train\n",
    "y_vals = a\n",
    "plt.plot(x_vals, y_vals)\n",
    "plt.title('Temps by Chirps/Min')\n",
    "plt.xlabel(\"Chirps/Min\")\n",
    "plt.ylabel(\"Temp\");"
   ]
  },
  {
   "cell_type": "markdown",
   "metadata": {
    "deletable": false,
    "editable": false
   },
   "source": [
    "Then, using the chirps from the test data (`chirps_test`) and your best slope (`m_crickets`) and intercept (`b_crickets`) values, calculate the predicted temp values (using the `compute_all_y`). Compare these values to the actual known temp values from the dataset (`temps_test`). If they are fairly close, then you have successfully 'trained' a model that can be used to predict the temperature from the number of times a cricket chirps per minute!\n",
    "\n",
    "Note: You just have to print out the values below and compare them yourself. You are not required to compare them quantitatively or write anything about it."
   ]
  },
  {
   "cell_type": "code",
   "execution_count": 892,
   "metadata": {},
   "outputs": [
    {
     "name": "stdout",
     "output_type": "stream",
     "text": [
      "[94.71999999999892, 76.91999999999912, 72.46999999999917]\n",
      "[88.6, 71.6, 79.6]\n"
     ]
    }
   ],
   "source": [
    "# ENTER YOUR CODE HERE\n",
    "print(compute_all_y(chirps_test, m_crickets, b_crickets))\n",
    "\n",
    "print(temps_test)"
   ]
  },
  {
   "cell_type": "markdown",
   "metadata": {
    "deletable": false,
    "editable": false
   },
   "source": [
    "---\n",
    "# Optional Challenge (Not graded)\n",
    "\n",
    "In the Runestone book, there is a second part to this linear regression project called **Project 19: Better Pizza Predictions with Multiple Regression**. It uses the code we developed in this notebook as a base and extends it to multiple dimensions. Try this project out for an additional challenge. You may use the space below to develop your code for that project if desired."
   ]
  },
  {
   "cell_type": "code",
   "execution_count": null,
   "metadata": {},
   "outputs": [],
   "source": [
    "# ENTER YOUR CODE HERE\n"
   ]
  },
  {
   "cell_type": "markdown",
   "metadata": {
    "deletable": false,
    "editable": false
   },
   "source": [
    "---\n",
    "Citation: This project was adapted with modifications from Project 17: Predicting Pizza Prices - Linear Regression from the Runestone Interactive online textbook Foundation of Python Programming by Bradley Miller."
   ]
  }
 ],
 "metadata": {
  "kernelspec": {
   "display_name": "Python 3 (ipykernel)",
   "language": "python",
   "name": "python3"
  },
  "language_info": {
   "codemirror_mode": {
    "name": "ipython",
    "version": 3
   },
   "file_extension": ".py",
   "mimetype": "text/x-python",
   "name": "python",
   "nbconvert_exporter": "python",
   "pygments_lexer": "ipython3",
   "version": "3.10.8"
  }
 },
 "nbformat": 4,
 "nbformat_minor": 4
}
