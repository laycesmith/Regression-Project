{
 "cells": [
  {
   "cell_type": "markdown",
   "metadata": {},
   "source": [
    "# CSPB 1300\n",
    "# Statistics Functions"
   ]
  },
  {
   "cell_type": "markdown",
   "metadata": {},
   "source": [
    "### Name:"
   ]
  },
  {
   "cell_type": "markdown",
   "metadata": {},
   "source": [
    "<span style=\"color:red\">Layce Smith</span>"
   ]
  },
  {
   "cell_type": "markdown",
   "metadata": {},
   "source": [
    "---\n",
    "### Overview\n",
    "In this notebook, you will get some practice creating functions and reusing those functions from within other functions. Our functions will calculate basic statistics from data. Although there are built-in functions and modules in Python that allow us to compute these statistics easily, we will instead be performing the calculations ourselves. We will also get some practice reading in data from a file on our computer.\n",
    "\n",
    "Enter your code in the code cells marked `YOUR CODE HERE`. The code cells below your code contain a simple way to print the result of your code and also a simple sanity check to ensure your result matches the expected result. You do not have to modify those cells, but just have to run them. If your code produces the expected result, you will not see any error messages below the sanity check code cell and only a \"Pass\".\n",
    "\n",
    "Make sure the `data.csv` file is contained in the same folder as this Jupyter Notebook before attempting to read from the file.\n",
    "\n",
    "Since each of the parts below depend on the code above them, you should **work on this notebook in order**. Also, every time you open this notebook or restart the kernel, you should **re-execute all of the code cells above the cell you are currently working on**. For example, the code cell below each function definition cell tests your function using the `data` variable that is defined in the first code cell in the File Processing section. Therefore, if the code cell with the `data` variable definition isn't re-executed every time you reopen this notebook or restart the kernel, then you will get an error message that the `data` variable is not found. Also, most of the functions invoke/call other functions you've defined in this notebook. The easiest thing to do each time you reopen this notebook is to:\n",
    "- Select the cell you would like to work on\n",
    "- Go to the `Kernel` menu above\n",
    "- Select `Restart Kernel and Run up to Selected Cell ...` to completely restart the kernel session and run all of the cells in the notebook from the top down to the cell you currently have selected\n",
    "  - Note: If any of the cells between the top and the currently selected cell have code errors, the Kernel will stop running on that cell and not continue. You will have to fix the errors before moving on.\n",
    "\n",
    "You are **NOT** allowed to use any of Python's built-in math functions such as `sum` or any of the functions from Python modules such as `math` or `statistics` in any of your user-defined functions in this assignment. Your code will be graded and run using a different dataset than the one provided so do **NOT** attempt to hardcode your answers. The grader is also going to check to ensure that the restricted functions and modules *were not* used and also that the required functions *were* used where specified.\n",
    "\n",
    "Reminder: To execute a single cell, select it and then press SHIFT-ENTER"
   ]
  },
  {
   "cell_type": "markdown",
   "metadata": {},
   "source": [
    "---\n",
    "### File Processing\n",
    "Read in the comma-separated values file called `data.csv` into a list object named `data`. You will likely need to use Python's built-in string methods `split` and `strip`, as well as the list method `append`. The final value of `data` should be a single dimension **list** of **floating point** values contained in the file. For example, your list should be of the form `[1.1, 2.5, etc.]` (i.e. a list of floats) and not something like `[[1.1, 2,5], [2.2, 3.6], etc.]` (i.e. a list of lists). Note that the values in the file are separated by commas, but you'll have to take into account that they are contained on several lines. Also, your code should allow for any number of rows and columns in the file as it will be tested using a different dataset. You may want to refer to section *10.10. Reading in data from a CSV File* in the Runestone book for hints on reading in CSV files and section *7.8 Nested Iteration* for a refresher on nested iteration (i.e. nested for loops)."
   ]
  },
  {
   "cell_type": "code",
   "execution_count": 284,
   "metadata": {},
   "outputs": [],
   "source": [
    "# ENTER YOUR CODE HERE\n",
    "afile = open(\"Lab 5/data.csv\", \"r\")\n",
    "lines = afile.readlines()\n",
    "data = []\n",
    "for row in lines[0:]:\n",
    "    vals = row.strip().split(',')\n",
    "    for items in vals:\n",
    "        items = float(items)\n",
    "        data.append(float(items))\n",
    "\n",
    "\n"
   ]
  },
  {
   "cell_type": "code",
   "execution_count": 285,
   "metadata": {
    "scrolled": true
   },
   "outputs": [
    {
     "name": "stdout",
     "output_type": "stream",
     "text": [
      "[142.52, 114.28, 126.26, 152.39, 144.66, 85.77, 125.67, 102.87, 103.86, 114.5, 108.98, 136.1, 121.75, 108.52, 115.19, 112.91, 136.93, 101.75, 112.48, 88.32, 53.15, 119.53, 123.89, 90.64, 152.98, 75.89, 106.95, 102.13, 137.73, 136.42, 109.21, 113.83, 87.62, 65.0, 98.8, 109.24, 131.47, 130.89, 97.98, 99.74, 84.29, 76.61, 70.68, 146.38, 95.45, 96.93, 80.07, 122.09, 72.59, 101.6, 87.46, 114.01, 95.43, 81.56, 105.42, 114.87, 107.38, 112.26, 92.87, 98.49, 92.08, 98.56, 89.17, 70.27, 109.67, 97.68, 72.25, 115.58, 87.22, 107.08, 121.09, 108.67, 129.59, 80.44, 114.33, 91.82, 87.97, 94.02, 99.55, 107.16, 81.88, 124.65, 115.64, 74.2, 136.81, 145.24, 130.4, 102.28, 83.84, 127.83, 97.65, 131.3, 110.31, 126.22, 113.38, 120.63, 106.22, 142.97, 108.63, 114.32]\n"
     ]
    }
   ],
   "source": [
    "# Run this cell to print the data\n",
    "print(data)"
   ]
  },
  {
   "cell_type": "code",
   "execution_count": 286,
   "metadata": {},
   "outputs": [
    {
     "name": "stdout",
     "output_type": "stream",
     "text": [
      "Pass\n"
     ]
    }
   ],
   "source": [
    "# Run this cell to perform a sanity check\n",
    "assert [round(item, 2) for item in data] == [142.52, 114.28, 126.26, 152.39, 144.66, 85.77, 125.67, 102.87, 103.86, 114.5, 108.98, 136.1, 121.75, 108.52, 115.19, 112.91, 136.93, 101.75, 112.48, 88.32, 53.15, 119.53, 123.89, 90.64, 152.98, 75.89, 106.95, 102.13, 137.73, 136.42, 109.21, 113.83, 87.62, 65.0, 98.8, 109.24, 131.47, 130.89, 97.98, 99.74, 84.29, 76.61, 70.68, 146.38, 95.45, 96.93, 80.07, 122.09, 72.59, 101.6, 87.46, 114.01, 95.43, 81.56, 105.42, 114.87, 107.38, 112.26, 92.87, 98.49, 92.08, 98.56, 89.17, 70.27, 109.67, 97.68, 72.25, 115.58, 87.22, 107.08, 121.09, 108.67, 129.59, 80.44, 114.33, 91.82, 87.97, 94.02, 99.55, 107.16, 81.88, 124.65, 115.64, 74.2, 136.81, 145.24, 130.4, 102.28, 83.84, 127.83, 97.65, 131.3, 110.31, 126.22, 113.38, 120.63, 106.22, 142.97, 108.63, 114.32], 'Incorrect result'\n",
    "print(\"Pass\")"
   ]
  },
  {
   "cell_type": "code",
   "execution_count": 287,
   "metadata": {},
   "outputs": [
    {
     "data": {
      "image/png": "[encoded data removed]",
      "text/plain": [
       "<Figure size 640x480 with 1 Axes>"
      ]
     },
     "metadata": {},
     "output_type": "display_data"
    }
   ],
   "source": [
    "# Run this cell to plot a histogram of the data\n",
    "import matplotlib.pyplot as plt\n",
    "plt.hist(data)\n",
    "plt.title('Histogram of Data')\n",
    "plt.xlabel('Values')\n",
    "plt.ylabel('Count');"
   ]
  },
  {
   "cell_type": "markdown",
   "metadata": {},
   "source": [
    "---\n",
    "### Sum\n",
    "Define a function called `calc_sum`. This function should accept one input parameter named `numbers`, that will be a list of numbers of length $\\geq 1$. The function should caculate the sum of the numbers in the input list and return the result. You are **NOT** allowed to use Python's built-in `sum` function. Reference: https://www.mathsisfun.com/definitions/sum.html\n",
    "\n",
    "$$ sum \\equiv \\sum_{i=1}^{N}{x_i} $$\n",
    "\n",
    "Examples:\n",
    "\n",
    "$$ sum([1, 2, 3]) = 1 + 2 + 3 = 6 $$\n",
    "\n",
    "$$ sum([4.1, 5.2, 7.3, 8.5]) = 4.1 + 5.2 + 7.3 + 8.5 = 25.1 $$"
   ]
  },
  {
   "cell_type": "code",
   "execution_count": 206,
   "metadata": {},
   "outputs": [
    {
     "name": "stdout",
     "output_type": "stream",
     "text": [
      "6\n"
     ]
    }
   ],
   "source": [
    "# ENTER YOUR CODE HERE\n",
    "def calc_sum(numbers):\n",
    "    lst = []\n",
    "    for nums in numbers:\n",
    "        if len(str(nums)) >= 1:\n",
    "            lst.append(nums)\n",
    "    count = 0\n",
    "    for nums in lst:\n",
    "            count = count + nums\n",
    "    return count\n",
    "\n",
    "x = calc_sum([1, 2, 3])\n",
    "print(x)\n",
    "        "
   ]
  },
  {
   "cell_type": "code",
   "execution_count": 207,
   "metadata": {},
   "outputs": [
    {
     "data": {
      "text/plain": [
       "10723.839999999993"
      ]
     },
     "execution_count": 207,
     "metadata": {},
     "output_type": "execute_result"
    }
   ],
   "source": [
    "# Run this cell to test your function with the data (answer should be approximately 10723.84)\n",
    "calc_sum(data)"
   ]
  },
  {
   "cell_type": "code",
   "execution_count": 208,
   "metadata": {
    "deletable": false,
    "editable": false
   },
   "outputs": [
    {
     "name": "stdout",
     "output_type": "stream",
     "text": [
      "Pass\n"
     ]
    }
   ],
   "source": [
    "# Run this cell to perform a sanity check\n",
    "assert calc_sum([1, 2, 3]) == 6, 'Incorrect result'\n",
    "assert calc_sum([4.1, 5.2, 7.3, 8.5]) == 25.1, 'Incorrect result'\n",
    "assert calc_sum([15]) == 15, 'Incorrect result'\n",
    "print(\"Pass\")"
   ]
  },
  {
   "cell_type": "markdown",
   "metadata": {},
   "source": [
    "---\n",
    "### Mean\n",
    "Define a function called `calc_mean`. This function should accept one input parameter named `numbers`, that will be a list of numbers of length $\\geq 1$. This function should calculate the arithmetic mean of the numbers in the input list and return the result. This function **MUST** invoke/call the `calc_sum` function from within its function body in order to calculate the sum of the numbers in the input list. Reference: https://www.mathsisfun.com/mean.html\n",
    "\n",
    "$$ mean \\equiv \\frac{1}{N} \\sum_{i=1}^{N}{x_i} $$\n",
    "\n",
    "Examples:\n",
    "\n",
    "$$ mean([1, 2, 3]) = \\frac{1}{3} [sum(1 + 2 + 3)] = 2 $$\n",
    "\n",
    "$$ mean([4.1, 5.2, 7.3, 8.5]) = \\frac{1}{4} [sum(4.1 + 5.2 + 7.3 + 8.5)] = 6.275 $$"
   ]
  },
  {
   "cell_type": "code",
   "execution_count": 217,
   "metadata": {},
   "outputs": [
    {
     "name": "stdout",
     "output_type": "stream",
     "text": [
      "2.0\n"
     ]
    }
   ],
   "source": [
    "def calc_mean(numbers):\n",
    "    x = len(numbers)\n",
    "    mean = (1 / x) * calc_sum(numbers)\n",
    "    return mean\n",
    "\n",
    "y = calc_mean([1, 2, 3])\n",
    "print(y)"
   ]
  },
  {
   "cell_type": "code",
   "execution_count": 218,
   "metadata": {},
   "outputs": [
    {
     "data": {
      "text/plain": [
       "107.23839999999993"
      ]
     },
     "execution_count": 218,
     "metadata": {},
     "output_type": "execute_result"
    }
   ],
   "source": [
    "# Run this cell to test your function with the data (answer should be approximately 107.24)\n",
    "calc_mean(data)"
   ]
  },
  {
   "cell_type": "code",
   "execution_count": 219,
   "metadata": {
    "deletable": false,
    "editable": false
   },
   "outputs": [
    {
     "name": "stdout",
     "output_type": "stream",
     "text": [
      "Pass\n"
     ]
    }
   ],
   "source": [
    "# Run this cell to perform a sanity check\n",
    "assert calc_mean([1, 2, 3]) == 2, 'Incorrect result'\n",
    "assert calc_mean([4.1, 5.2, 7.3, 8.5]) == 6.275, 'Incorrect result'\n",
    "assert calc_mean([15]) == 15, 'Incorrect result'\n",
    "print(\"Pass\")"
   ]
  },
  {
   "cell_type": "markdown",
   "metadata": {},
   "source": [
    "---\n",
    "### Square\n",
    "Define a function called `calc_square`. This function should accept one input parameter named `number`. This function should square the input number and return the result. Reference: https://www.mathsisfun.com/square-root.html\n",
    "\n",
    "$$ square \\equiv x^2 $$\n",
    "\n",
    "Examples:\n",
    "\n",
    "$$ square(5) = 5^2 = 25 $$\n",
    "\n",
    "$$ square(7.3) = 7.3^2 = 53.29 $$"
   ]
  },
  {
   "cell_type": "code",
   "execution_count": 220,
   "metadata": {},
   "outputs": [],
   "source": [
    "def calc_square(number):\n",
    "    x = number ** 2\n",
    "    return x\n"
   ]
  },
  {
   "cell_type": "code",
   "execution_count": 221,
   "metadata": {},
   "outputs": [
    {
     "data": {
      "text/plain": [
       "20311.9504"
      ]
     },
     "execution_count": 221,
     "metadata": {},
     "output_type": "execute_result"
    }
   ],
   "source": [
    "# Run this cell to test your function with the data (answer should be approximately 20311.95)\n",
    "calc_square(data[0])"
   ]
  },
  {
   "cell_type": "code",
   "execution_count": 222,
   "metadata": {
    "deletable": false,
    "editable": false
   },
   "outputs": [
    {
     "name": "stdout",
     "output_type": "stream",
     "text": [
      "Pass\n"
     ]
    }
   ],
   "source": [
    "# Run this cell to perform a sanity check\n",
    "assert calc_square(5) == 25, 'Incorrect result'\n",
    "assert calc_square(7.3) == 53.29, 'Incorrect result'\n",
    "assert calc_square(-2) == 4, 'Incorrect result'\n",
    "print(\"Pass\")"
   ]
  },
  {
   "cell_type": "markdown",
   "metadata": {},
   "source": [
    "---\n",
    "### Variance\n",
    "Define a function called `calc_variance`. This function should accept one input parameter named `numbers`, that will be a list of numbers of length $\\geq 1$. This function should calculate the (population) variance of the input numbers and return the result. This function **MUST** invoke/call the `calc_mean` and `calc_square` functions from within its function body. Reference: https://www.mathsisfun.com/data/standard-deviation.html\n",
    "\n",
    "$$ variance \\equiv \\frac{1}{N} \\sum_{i=1}^{N}{(x_i - mean)^2} $$\n",
    "\n",
    "Examples:\n",
    "\n",
    "$$ variance([5, 9]) = \\frac{1}{2} [(5 - mean)^2 + (9 - mean)^2] = 4.0 $$\n",
    "\n",
    "$$ variance([1, 2, 3, 4]) = \\frac{1}{4} [(1 - mean)^2 + (2 - mean)^2 + (3 - mean)^2 + (4 - mean)^2] = 1.25 $$  "
   ]
  },
  {
   "cell_type": "code",
   "execution_count": 239,
   "metadata": {},
   "outputs": [
    {
     "name": "stdout",
     "output_type": "stream",
     "text": [
      "1.25\n"
     ]
    }
   ],
   "source": [
    "def calc_variance(numbers):\n",
    "    count = 0\n",
    "    for nums in numbers:\n",
    "        x = calc_square(nums - calc_mean(numbers))\n",
    "        count = count + x\n",
    "        y = len(numbers)\n",
    "    variance = (1 / y) * count\n",
    "    return variance\n",
    "\n",
    "print(calc_variance([1, 2, 3, 4]))\n"
   ]
  },
  {
   "cell_type": "code",
   "execution_count": 240,
   "metadata": {},
   "outputs": [
    {
     "data": {
      "text/plain": [
       "435.2879914400002"
      ]
     },
     "execution_count": 240,
     "metadata": {},
     "output_type": "execute_result"
    }
   ],
   "source": [
    "# Run this cell to test your function with the data (answer should be approximately 435.29)\n",
    "calc_variance(data)"
   ]
  },
  {
   "cell_type": "code",
   "execution_count": 241,
   "metadata": {
    "deletable": false,
    "editable": false
   },
   "outputs": [
    {
     "name": "stdout",
     "output_type": "stream",
     "text": [
      "Pass\n"
     ]
    }
   ],
   "source": [
    "# Run this cell to perform a sanity check\n",
    "assert calc_variance([5, 9]) == 4.0, 'Incorrect result'\n",
    "assert calc_variance([1, 2, 3, 4]) == 1.25, 'Incorrect result'\n",
    "assert round(calc_variance([3.1, 5.6, 9.9]), 2) == 7.89, 'Incorrect result'\n",
    "print(\"Pass\")"
   ]
  },
  {
   "cell_type": "markdown",
   "metadata": {},
   "source": [
    "---\n",
    "### Standard Deviation\n",
    "Define a function called `calc_std`. This function should accept one input parameter named `numbers`, that will be a list of numbers of length $\\geq 1$. This function should calculate the (population) standard deviation of the input numbers and return the result. This function **MUST** invoke/call the `calc_variance` function from within its function body. Reference: https://www.mathsisfun.com/data/standard-deviation.html\n",
    "\n",
    "$$ standard\\ deviation = \\sqrt{variance} $$\n",
    "\n",
    "Examples:\n",
    "\n",
    "$$ standard\\ deviation([5, 9]) = \\sqrt{variance([5, 9])} = 2.0 $$\n",
    "\n",
    "$$ standard\\ deviation([1, 2, 3, 4]) = \\sqrt{variance([1, 2, 3, 4])} \\approx 1.12$$"
   ]
  },
  {
   "cell_type": "code",
   "execution_count": 245,
   "metadata": {},
   "outputs": [],
   "source": [
    "def calc_std(numbers):\n",
    "    deviation = calc_variance(numbers) ** 0.5\n",
    "    return deviation\n"
   ]
  },
  {
   "cell_type": "code",
   "execution_count": 246,
   "metadata": {},
   "outputs": [
    {
     "data": {
      "text/plain": [
       "20.86355653861537"
      ]
     },
     "execution_count": 246,
     "metadata": {},
     "output_type": "execute_result"
    }
   ],
   "source": [
    "# Run this cell to test your function with the data (answer should be approximately 20.86)\n",
    "calc_std(data)"
   ]
  },
  {
   "cell_type": "code",
   "execution_count": 247,
   "metadata": {
    "deletable": false,
    "editable": false
   },
   "outputs": [
    {
     "name": "stdout",
     "output_type": "stream",
     "text": [
      "Pass\n"
     ]
    }
   ],
   "source": [
    "# Run this cell to perform a sanity check\n",
    "assert calc_std([5, 9]) == 2.0, 'Incorrect result'\n",
    "assert round(calc_std([1, 2, 3, 4]), 2) == 1.12, 'Incorrect result'\n",
    "assert round(calc_std([3.1, 5.6, 9.9]), 2) == 2.81, 'Incorrect result'\n",
    "print(\"Pass\")"
   ]
  },
  {
   "cell_type": "markdown",
   "metadata": {},
   "source": [
    "---\n",
    "### Median (Optional challenge, not graded)\n",
    "If you'd like more of a challenge, you can try to create this extra function. Define a function called `calc_median`. This function should accept one input parameter named `numbers`, that will be a list of numbers of length $\\geq 1$. This function should calculate and return the median value from the input list of numbers. You will have to account for both even and odd length input lists. For even length lists, compute the mean of the two middle values.\n",
    "\n",
    "HINT: You may need to find a way to sort your numbers first. You can look into using Python's built-in methods for sorting (not covered in this class) or you can do research on sorting algorithms (e.g. [https://en.wikipedia.org/wiki/Sorting_algorithm](https://en.wikipedia.org/wiki/Sorting_algorithm)) and try your hand at coding one of these up yourself. Please cite your sources if you use any for your code. You will learn more about sorting algorithms in your Data Structures class."
   ]
  },
  {
   "cell_type": "code",
   "execution_count": 281,
   "metadata": {},
   "outputs": [
    {
     "name": "stdout",
     "output_type": "stream",
     "text": [
      "3\n"
     ]
    }
   ],
   "source": [
    "def calc_median(numbers):\n",
    "    lst = []\n",
    "    for nums in numbers:\n",
    "        if len(str(nums)) >= 1:\n",
    "            lst.append(nums)\n",
    "            \n",
    "    if len(lst) % 2 == 0:\n",
    "        even_median = float((1 / 2) * (lst[int(len(lst) / 2) - 1] + lst[int((len(lst) / 2) - 1) + 1]))\n",
    "        return even_median\n",
    "    else:\n",
    "        odd_median = lst[(len(lst) // 2)]\n",
    "        return odd_median\n",
    "\n",
    "print(calc_median([1, 2, 3, 4, 5]))\n",
    "        \n",
    "        "
   ]
  },
  {
   "cell_type": "code",
   "execution_count": 282,
   "metadata": {},
   "outputs": [
    {
     "data": {
      "text/plain": [
       "94.53"
      ]
     },
     "execution_count": 282,
     "metadata": {},
     "output_type": "execute_result"
    }
   ],
   "source": [
    "# Run this cell to test your function with the data (answer should be approximately 107.95)\n",
    "calc_median(data)"
   ]
  },
  {
   "cell_type": "code",
   "execution_count": 283,
   "metadata": {
    "deletable": false,
    "editable": false
   },
   "outputs": [
    {
     "name": "stdout",
     "output_type": "stream",
     "text": [
      "Pass\n"
     ]
    }
   ],
   "source": [
    "# Run this cell to perform a sanity check\n",
    "assert calc_median([2, 3, 4]) == 3, 'Incorrect result'\n",
    "assert calc_median([4, 5, 6, 7]) == 5.5, 'Incorrect result'\n",
    "print(\"Pass\")"
   ]
  },
  {
   "cell_type": "markdown",
   "metadata": {},
   "source": [
    "I thought I had this one figured out and then realized I didn't account for lists that don't go in sequential order. Oops. Now I understand the comment about needing to find a sorting method for integers in a list. Will continue to ponder this on my own, but going to go ahead and turn in what I have for the sake of my grade. :)"
   ]
  },
  {
   "cell_type": "code",
   "execution_count": null,
   "metadata": {},
   "outputs": [],
   "source": []
  }
 ],
 "metadata": {
  "kernelspec": {
   "display_name": "Python 3 (ipykernel)",
   "language": "python",
   "name": "python3"
  },
  "language_info": {
   "codemirror_mode": {
    "name": "ipython",
    "version": 3
   },
   "file_extension": ".py",
   "mimetype": "text/x-python",
   "name": "python",
   "nbconvert_exporter": "python",
   "pygments_lexer": "ipython3",
   "version": "3.10.8"
  }
 },
 "nbformat": 4,
 "nbformat_minor": 4
}
